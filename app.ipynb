{
 "cells": [
  {
   "cell_type": "code",
   "execution_count": 4,
   "metadata": {},
   "outputs": [
    {
     "name": "stdout",
     "output_type": "stream",
     "text": [
      "App\n"
     ]
    }
   ],
   "source": [
    "print(\"App\")\n"
   ]
  },
  {
   "cell_type": "code",
   "execution_count": null,
   "metadata": {},
   "outputs": [],
   "source": []
  },
  {
   "cell_type": "code",
   "execution_count": null,
   "metadata": {},
   "outputs": [],
   "source": []
  },
  {
   "cell_type": "code",
   "execution_count": null,
   "metadata": {},
   "outputs": [],
   "source": []
  },
  {
   "cell_type": "code",
   "execution_count": null,
   "metadata": {},
   "outputs": [],
   "source": []
  },
  {
   "cell_type": "markdown",
   "metadata": {},
   "source": []
  },
  {
   "cell_type": "markdown",
   "metadata": {},
   "source": []
  },
  {
   "cell_type": "markdown",
   "metadata": {},
   "source": []
  },
  {
   "cell_type": "code",
   "execution_count": 5,
   "metadata": {},
   "outputs": [
    {
     "name": "stdout",
     "output_type": "stream",
     "text": [
      "1\n"
     ]
    }
   ],
   "source": [
    "print(1)\n"
   ]
  },
  {
   "attachments": {},
   "cell_type": "markdown",
   "metadata": {},
   "source": []
  },
  {
   "cell_type": "code",
   "execution_count": 6,
   "metadata": {},
   "outputs": [
    {
     "name": "stdout",
     "output_type": "stream",
     "text": [
      "3\n"
     ]
    }
   ],
   "source": [
    "print(1+2)\n"
   ]
  },
  {
   "cell_type": "code",
   "execution_count": 7,
   "metadata": {},
   "outputs": [
    {
     "name": "stdout",
     "output_type": "stream",
     "text": [
      "aaaaa\n"
     ]
    }
   ],
   "source": [
    "print(\"a\" * 5)\n"
   ]
  },
  {
   "cell_type": "code",
   "execution_count": 8,
   "metadata": {},
   "outputs": [
    {
     "name": "stdout",
     "output_type": "stream",
     "text": [
      "130.20000000000002\n"
     ]
    }
   ],
   "source": [
    "print(1.05*124)\n"
   ]
  },
  {
   "cell_type": "code",
   "execution_count": 9,
   "metadata": {},
   "outputs": [
    {
     "name": "stdout",
     "output_type": "stream",
     "text": [
      "1024\n"
     ]
    }
   ],
   "source": [
    "print(2**10)\n"
   ]
  },
  {
   "cell_type": "code",
   "execution_count": 10,
   "metadata": {},
   "outputs": [
    {
     "name": "stdout",
     "output_type": "stream",
     "text": [
      "0\n",
      "1\n",
      "2\n",
      "3\n",
      "4\n",
      "5\n",
      "6\n",
      "7\n",
      "8\n",
      "9\n"
     ]
    }
   ],
   "source": [
    "for x in range(0, 10):\n",
    "    print(x)\n"
   ]
  },
  {
   "cell_type": "code",
   "execution_count": 11,
   "metadata": {},
   "outputs": [
    {
     "name": "stdout",
     "output_type": "stream",
     "text": [
      "8\n"
     ]
    }
   ],
   "source": [
    "print(104 % 12)\n"
   ]
  },
  {
   "cell_type": "code",
   "execution_count": 12,
   "metadata": {},
   "outputs": [
    {
     "name": "stdout",
     "output_type": "stream",
     "text": [
      "xLong"
     ]
    }
   ],
   "source": [
    "print(\"x\", end=\"Long\")"
   ]
  },
  {
   "cell_type": "code",
   "execution_count": 13,
   "metadata": {},
   "outputs": [
    {
     "name": "stdout",
     "output_type": "stream",
     "text": [
      "100000.0\n"
     ]
    }
   ],
   "source": [
    "p=100\n",
    "t=1000\n",
    "r=100\n",
    "def si (p, t, r):\n",
    "    return p*t*r/100\n",
    "print(si(p, t,r))"
   ]
  },
  {
   "cell_type": "code",
   "execution_count": 14,
   "metadata": {},
   "outputs": [
    {
     "name": "stdout",
     "output_type": "stream",
     "text": [
      "200.0\n"
     ]
    }
   ],
   "source": [
    "r=20\n",
    "t=10 \n",
    "print(si(p, t,r))\n"
   ]
  },
  {
   "cell_type": "code",
   "execution_count": 15,
   "metadata": {},
   "outputs": [
    {
     "name": "stdout",
     "output_type": "stream",
     "text": [
      "3\n"
     ]
    }
   ],
   "source": [
    "class DemoClass:\n",
    "    a=1;\n",
    "    b=2;\n",
    "    def __init__(self, x,y) -> None:\n",
    "        self.a = x\n",
    "        self.b = y\n",
    "    def printLogic(self):\n",
    "        print(self.a+self.b)\n",
    "\n",
    "obj =  DemoClass(1, 2);\n",
    "obj.printLogic()"
   ]
  },
  {
   "cell_type": "code",
   "execution_count": 16,
   "metadata": {},
   "outputs": [
    {
     "name": "stdout",
     "output_type": "stream",
     "text": [
      "Enter your name:\n",
      "Sagar\n",
      "A+\n"
     ]
    }
   ],
   "source": [
    "students ={\n",
    "    \"sagar\":90,\n",
    "    \"Lakpa\":80,\n",
    "    \"Santosh\":70,\n",
    "    \"Prajwol\":60\n",
    "}\n",
    "\n",
    "print(\"Enter your name:\" )\n",
    "print(\"Sagar\")\n",
    "\n",
    "if(students[\"sagar\"] >= 90):\n",
    "    print(\"A+\")\n",
    "elif (students[\"sagar\"] >=80):\n",
    "    print(\"A\")\n",
    "elif (students[\"sagar\"] >=70):\n",
    "    print(\"B+\")\n",
    "elif (students[\"sagar\"] >=60):\n",
    "    print(\"B\")\n",
    "elif (students[\"sagar\"] >=50):\n",
    "    print(\"C+\")\n",
    "else: print(\"fail\")\n"
   ]
  },
  {
   "cell_type": "code",
   "execution_count": 17,
   "metadata": {},
   "outputs": [
    {
     "name": "stdout",
     "output_type": "stream",
     "text": [
      "Equals to 0\n"
     ]
    }
   ],
   "source": [
    "\n",
    "a=0\n",
    "print(\"Greater than 0\") if a> 0 else print(\"Equals to 0\") if(a==0)else print(\"Less than 0\")  "
   ]
  },
  {
   "cell_type": "code",
   "execution_count": 18,
   "metadata": {},
   "outputs": [
    {
     "name": "stdout",
     "output_type": "stream",
     "text": [
      "10\n",
      "520\n",
      "4112\n",
      "150.0\n"
     ]
    }
   ],
   "source": [
    "x= 0b1010  #binary\n",
    "y= 0o1010  #octal\n",
    "z= 0x1010 #hexadecimal\n",
    "a = 1.5e2   \n",
    "print(x) \n",
    "print(y) \n",
    "print(z) \n",
    "print(a) "
   ]
  },
  {
   "cell_type": "code",
   "execution_count": null,
   "metadata": {},
   "outputs": [],
   "source": []
  },
  {
   "cell_type": "code",
   "execution_count": 19,
   "metadata": {},
   "outputs": [
    {
     "name": "stdout",
     "output_type": "stream",
     "text": [
      "asdasdas\n",
      "asdasdasd\n",
      "asd\n",
      "as'defas'delattrsd'as'delasd'asdasd\n",
      "asd\n",
      "as\n",
      "das\n",
      "d\n",
      "ad\n",
      "asd\n",
      "asdas\n",
      "das\n",
      "delattrsd\n"
     ]
    }
   ],
   "source": [
    "mlcode = \"\"\"asdasdas\n",
    "asdasdasd\n",
    "asd\n",
    "as'defas'delattrsd'as'delasd'asdasd\n",
    "asd\n",
    "as\n",
    "das\n",
    "d\n",
    "ad\n",
    "asd\n",
    "asdas\n",
    "das\n",
    "delattrsd\"\"\"\n",
    "print(mlcode)"
   ]
  },
  {
   "cell_type": "code",
   "execution_count": 20,
   "metadata": {},
   "outputs": [
    {
     "name": "stdout",
     "output_type": "stream",
     "text": [
      "(1+2j)\n"
     ]
    }
   ],
   "source": [
    "x= 1+2j\n",
    "print(x)"
   ]
  },
  {
   "cell_type": "code",
   "execution_count": 21,
   "metadata": {},
   "outputs": [
    {
     "name": "stdout",
     "output_type": "stream",
     "text": [
      "True\n",
      "False\n",
      "True\n",
      "False\n"
     ]
    }
   ],
   "source": [
    "fruits = [\"q\"]\n",
    "fruitsa = [\"q\"]\n",
    "print(fruits  == fruitsa) #check by value\n",
    "print(fruits is fruitsa) #check by reference\n",
    "print(\"q\"   in fruitsa)   #exist check\n",
    "print(\"q\"  not in fruitsa)   #doesnot exist check"
   ]
  },
  {
   "cell_type": "code",
   "execution_count": 22,
   "metadata": {},
   "outputs": [
    {
     "name": "stdout",
     "output_type": "stream",
     "text": [
      "h5\n",
      "s10\n",
      "Welcome to parsll\n",
      "4.0 4.5 1 5\n"
     ]
    }
   ],
   "source": [
    "print(\"h\"+\"5\")\n",
    "# print(\"h\"+\"5\")\n",
    "a =\"s\"\n",
    "b= str( 10)\n",
    "print(a+b)\n",
    "a=float(4)\n",
    "b= float(4.5)\n",
    "c= int(1)\n",
    "d= int(\"4\")\n",
    "d = int(5.9)\n",
    "print(\"Welcome to parsll\")\n",
    "print(a, b, c,d)"
   ]
  },
  {
   "cell_type": "code",
   "execution_count": 23,
   "metadata": {},
   "outputs": [
    {
     "name": "stdout",
     "output_type": "stream",
     "text": [
      "Hello\n",
      "Hello\n",
      "Hello\n",
      "Hello\n",
      "Hello\n",
      "Hello\n",
      "Hello\n",
      "Hello\n",
      "Hello\n",
      "Hello\n",
      "Hello\n",
      "Hello\n",
      "Hello\n",
      "Hello\n",
      "Hello\n",
      "Hello\n",
      "Hello\n",
      "Hello\n",
      "Hello\n",
      "Hello\n",
      "Hello\n",
      "Hello\n",
      "Hello\n",
      "Hello\n",
      "Hello\n",
      "Hello\n",
      "Hello\n",
      "Hello\n",
      "Hello\n",
      "Hello\n",
      "Hello\n",
      "Hello\n",
      "Hello\n",
      "Hello\n",
      "Hello\n",
      "Hello\n",
      "Hello\n",
      "Hello\n",
      "Hello\n",
      "Hello\n",
      "Hello\n",
      "Hello\n",
      "Hello\n",
      "Hello\n",
      "Hello\n",
      "Hello\n",
      "Hello\n",
      "Hello\n",
      "Hello\n",
      "Hello\n",
      "Hello\n",
      "Hello\n",
      "Hello\n",
      "Hello\n",
      "Hello\n",
      "Hello\n",
      "Hello\n",
      "Hello\n",
      "Hello\n",
      "Hello\n",
      "Hello\n",
      "Hello\n",
      "Hello\n",
      "Hello\n",
      "Hello\n",
      "Hello\n",
      "Hello\n",
      "Hello\n",
      "Hello\n",
      "Hello\n",
      "Hello\n",
      "Hello\n",
      "Hello\n",
      "Hello\n",
      "Hello\n",
      "Hello\n",
      "Hello\n",
      "Hello\n",
      "Hello\n",
      "Hello\n",
      "Hello\n",
      "Hello\n",
      "Hello\n",
      "Hello\n",
      "Hello\n",
      "Hello\n",
      "Hello\n",
      "Hello\n",
      "Hello\n",
      "Hello\n",
      "Hello\n",
      "Hello\n",
      "Hello\n",
      "Hello\n",
      "Hello\n",
      "Hello\n",
      "Hello\n",
      "Hello\n",
      "Hello\n",
      "Hello\n"
     ]
    }
   ],
   "source": [
    "i= 0\n",
    "while i<100:\n",
    "  print(\"Hello\")\n",
    "  i+=1\n",
    "  "
   ]
  },
  {
   "cell_type": "code",
   "execution_count": 24,
   "metadata": {},
   "outputs": [
    {
     "name": "stdout",
     "output_type": "stream",
     "text": [
      "0\n",
      "1\n",
      "2\n",
      "2\n",
      "4\n",
      "5\n",
      "5\n",
      "5\n",
      "5\n",
      "5\n",
      "5\n",
      "5\n",
      "5\n",
      "5\n",
      "5\n",
      "5\n",
      "5\n",
      "5\n",
      "5\n",
      "5\n",
      "5\n",
      "5\n",
      "5\n",
      "5\n",
      "5\n",
      "5\n",
      "5\n",
      "5\n",
      "5\n",
      "4\n"
     ]
    }
   ],
   "source": [
    "xa=\"Hello                        o\"\n",
    "\n",
    "for x in xa:\n",
    "    print(xa.index(x))"
   ]
  },
  {
   "cell_type": "code",
   "execution_count": 25,
   "metadata": {},
   "outputs": [
    {
     "name": "stdout",
     "output_type": "stream",
     "text": [
      "abcabcabcabcabc\n"
     ]
    }
   ],
   "source": [
    "a =\"abc\"\n",
    "b=5\n",
    "c= a*b\n",
    "print(c)"
   ]
  },
  {
   "cell_type": "code",
   "execution_count": 26,
   "metadata": {},
   "outputs": [
    {
     "name": "stdout",
     "output_type": "stream",
     "text": [
      "* * * * * * * * * * \n",
      "* * * * * * * * * \n",
      "* * * * * * * * \n",
      "* * * * * * * \n",
      "* * * * * * \n",
      "* * * * * \n",
      "* * * * \n",
      "* * * \n",
      "* * \n",
      "* \n"
     ]
    }
   ],
   "source": [
    "for i in range(0, 10):\n",
    "    for j in range(i, 10):\n",
    "        print(\"* \", end=\"\")\n",
    "    print(\"\")"
   ]
  },
  {
   "cell_type": "code",
   "execution_count": 27,
   "metadata": {},
   "outputs": [
    {
     "name": "stdout",
     "output_type": "stream",
     "text": [
      "\n",
      "\n",
      "\n",
      "\n",
      "\n"
     ]
    }
   ],
   "source": [
    "\n",
    "\n",
    "\n",
    "for x in range(0, 5):\n",
    "    for y in range(5,x):\n",
    "        print(x, end=\"\")\n",
    "    print(\"\")\n"
   ]
  },
  {
   "cell_type": "code",
   "execution_count": 28,
   "metadata": {},
   "outputs": [],
   "source": [
    "for k in range(10, 0):\n",
    "    print(k)"
   ]
  },
  {
   "cell_type": "code",
   "execution_count": 29,
   "metadata": {},
   "outputs": [
    {
     "name": "stdout",
     "output_type": "stream",
     "text": [
      "I am :Sagar\n",
      "I am :Khadka\n"
     ]
    }
   ],
   "source": [
    "Listname =[\"Sagar\", \"Khadka\"]\n",
    "for x  in Listname:\n",
    "    print(\"I am :\" + x )"
   ]
  },
  {
   "cell_type": "code",
   "execution_count": 31,
   "metadata": {},
   "outputs": [
    {
     "name": "stdout",
     "output_type": "stream",
     "text": [
      "I am here\n",
      "I am here\n",
      "I am here\n",
      "I am here\n",
      "I am here\n",
      "I am here\n",
      "I am here\n",
      "No\n",
      "Thank you\n"
     ]
    }
   ],
   "source": [
    "counter =3 \n",
    "# while counter <10:\n",
    "#     print(\"I am here\")\n",
    "#     counter = counter+1\n",
    "# else:\n",
    "#     print(\"No\")\n",
    "print(\"Thank you\")"
   ]
  },
  {
   "cell_type": "code",
   "execution_count": 34,
   "metadata": {},
   "outputs": [
    {
     "name": "stdout",
     "output_type": "stream",
     "text": [
      "40\n",
      "41\n",
      "42\n",
      "43\n",
      "44\n",
      "Thank you\n"
     ]
    }
   ],
   "source": [
    "for x in range(0, counter):\n",
    "    print(counter)\n",
    "    counter= counter+1\n",
    "    if(counter==45):\n",
    "        break\n",
    "else:\n",
    "    print(\"No\")\n",
    "print(\"Thank you\")\n",
    "    "
   ]
  },
  {
   "cell_type": "code",
   "execution_count": 39,
   "metadata": {},
   "outputs": [
    {
     "name": "stdout",
     "output_type": "stream",
     "text": [
      "end=\n"
     ]
    }
   ],
   "source": [
    "setn ={\"P\",\"q\",\"r\",\"s\"}\n",
    "for i in setn:\n",
    "  pass\n",
    "print(\"end=\")"
   ]
  },
  {
   "cell_type": "code",
   "execution_count": 45,
   "metadata": {},
   "outputs": [
    {
     "name": "stdout",
     "output_type": "stream",
     "text": [
      "[[8, 11], [18, 25]]\n"
     ]
    }
   ],
   "source": [
    "\n",
    "x =[[1,2],[3,4]]\n",
    "y =[[2,3],[3,4]]\n",
    "z =[[0,0],[0,0]]\n",
    "for k in range(0, len(x)):\n",
    "    for l in range(0, len(y[0])):\n",
    "      for m in range(0, len(y)):\n",
    "         z[k][l] += x[k][m] * y[m][l]\n",
    "\n",
    "print(z)\n",
    "    \n"
   ]
  },
  {
   "cell_type": "code",
   "execution_count": 2,
   "metadata": {},
   "outputs": [
    {
     "name": "stdout",
     "output_type": "stream",
     "text": [
      "asml\n"
     ]
    }
   ],
   "source": [
    "import statistics as st\n",
    "print(st.mode([\"star\", \"asml\", \"str\", \"asml\", \"International\"]))"
   ]
  },
  {
   "cell_type": "code",
   "execution_count": 47,
   "metadata": {},
   "outputs": [
    {
     "ename": "ValueError",
     "evalue": "invalid literal for int() with base 10: 'avc'",
     "output_type": "error",
     "traceback": [
      "\u001b[0;31m---------------------------------------------------------------------------\u001b[0m",
      "\u001b[0;31mValueError\u001b[0m                                Traceback (most recent call last)",
      "Cell \u001b[0;32mIn[47], line 2\u001b[0m\n\u001b[1;32m      1\u001b[0m x \u001b[39m=\u001b[39m \u001b[39minput\u001b[39m(\u001b[39m\"\u001b[39m\u001b[39mPlease enter your grade\u001b[39m\u001b[39m\"\u001b[39m)\n\u001b[0;32m----> 2\u001b[0m \u001b[39mprint\u001b[39m(\u001b[39m\"\u001b[39m\u001b[39mGrade\u001b[39m\u001b[39m\"\u001b[39m, \u001b[39mint\u001b[39;49m(x))\n",
      "\u001b[0;31mValueError\u001b[0m: invalid literal for int() with base 10: 'avc'"
     ]
    }
   ],
   "source": [
    "x = input(\"Please enter your grade\")\n",
    "print(\"Grade\", int(x))"
   ]
  },
  {
   "cell_type": "code",
   "execution_count": 10,
   "metadata": {},
   "outputs": [
    {
     "name": "stdout",
     "output_type": "stream",
     "text": [
      "<class 'str'>\n",
      "<class 'int'>\n",
      "<class 'str'>\n",
      "['Appple', 'Banana', 'Orange']\n"
     ]
    }
   ],
   "source": [
    "\n",
    "\n",
    "fruits = [\"Appple\", 1, \"Banana\", \"Orange\"]\n",
    "\n",
    "for item in fruits:\n",
    "    print(type(item))\n",
    "    try:\n",
    "        if(int(item)):\n",
    "\n",
    "            fruits.remove(item)\n",
    "    except:\n",
    "        pass\n",
    "\n",
    "print(fruits)"
   ]
  },
  {
   "cell_type": "code",
   "execution_count": null,
   "metadata": {},
   "outputs": [],
   "source": []
  }
 ],
 "metadata": {
  "kernelspec": {
   "display_name": "Python 3",
   "language": "python",
   "name": "python3"
  },
  "language_info": {
   "codemirror_mode": {
    "name": "ipython",
    "version": 3
   },
   "file_extension": ".py",
   "mimetype": "text/x-python",
   "name": "python",
   "nbconvert_exporter": "python",
   "pygments_lexer": "ipython3",
   "version": "3.10.6"
  },
  "orig_nbformat": 4
 },
 "nbformat": 4,
 "nbformat_minor": 2
}
